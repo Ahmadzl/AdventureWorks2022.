{
 "cells": [
  {
   "cell_type": "code",
   "execution_count": 1,
   "id": "8e592b07",
   "metadata": {},
   "outputs": [
    {
     "name": "stdout",
     "output_type": "stream",
     "text": [
      "Requirement already satisfied: sqlalchemy in c:\\users\\ahmad\\anaconda3\\lib\\site-packages (1.4.39)\n",
      "Requirement already satisfied: greenlet!=0.4.17 in c:\\users\\ahmad\\anaconda3\\lib\\site-packages (from sqlalchemy) (2.0.1)\n",
      "Requirement already satisfied: pyodbc in c:\\users\\ahmad\\anaconda3\\lib\\site-packages (4.0.34)\n"
     ]
    }
   ],
   "source": [
    "!pip install sqlalchemy\n",
    "!pip install pyodbc"
   ]
  },
  {
   "cell_type": "code",
   "execution_count": 2,
   "id": "57ec2c69",
   "metadata": {},
   "outputs": [],
   "source": [
    "from sqlalchemy import create_engine, Table, inspect\n",
    "import pandas as pd\n",
    "import pyodbc \n",
    "import matplotlib.pyplot as plt"
   ]
  },
  {
   "cell_type": "code",
   "execution_count": 3,
   "id": "ae71d499",
   "metadata": {},
   "outputs": [],
   "source": [
    "def new_engine(dialect, server, database, user=None, password=None, integrated_security=True):\n",
    "    if integrated_security:\n",
    "        # For Windows authentication\n",
    "        eng = f\"{dialect}://{server}/{database}?trusted_connection=yes&driver=ODBC+Driver+17+for+SQL+Server\"\n",
    "    else:\n",
    "        assert user, 'You must define a username'\n",
    "        assert password, 'You must define a password'\n",
    "        # For SQL Server authentication\n",
    "        eng = f\"{dialect}://{user}:{password}@{server}/{database}?driver=ODBC+Driver+17+for+SQL+Server\"\n",
    "    print(eng)\n",
    "    return create_engine(eng)"
   ]
  },
  {
   "cell_type": "code",
   "execution_count": 4,
   "id": "f530d87e",
   "metadata": {},
   "outputs": [
    {
     "name": "stdout",
     "output_type": "stream",
     "text": [
      "mssql://Taem-pc/AdventureWorks2022?trusted_connection=yes&driver=ODBC+Driver+17+for+SQL+Server\n"
     ]
    }
   ],
   "source": [
    "engine = new_engine('mssql', 'Taem-pc', 'AdventureWorks2022')"
   ]
  },
  {
   "cell_type": "code",
   "execution_count": 5,
   "id": "6506ebf4",
   "metadata": {},
   "outputs": [
    {
     "name": "stdout",
     "output_type": "stream",
     "text": [
      "<class 'sqlalchemy.engine.base.Engine'>\n"
     ]
    }
   ],
   "source": [
    "print(type(engine))"
   ]
  },
  {
   "cell_type": "code",
   "execution_count": 6,
   "id": "46d29d34",
   "metadata": {},
   "outputs": [],
   "source": [
    "connection = engine.connect()"
   ]
  },
  {
   "cell_type": "code",
   "execution_count": 7,
   "id": "b6f0a4dd",
   "metadata": {},
   "outputs": [
    {
     "name": "stdout",
     "output_type": "stream",
     "text": [
      "<class 'sqlalchemy.engine.base.Connection'>\n"
     ]
    }
   ],
   "source": [
    "print(type(connection))"
   ]
  },
  {
   "cell_type": "code",
   "execution_count": 29,
   "id": "5ce8ad68",
   "metadata": {},
   "outputs": [
    {
     "name": "stdout",
     "output_type": "stream",
     "text": [
      "   TotalEmployees\n",
      "0             290\n"
     ]
    }
   ],
   "source": [
    "# Hur många anställda?\n",
    "query =\"\"\"\n",
    "SELECT COUNT(*) AS TotalEmployees\n",
    "FROM HumanResources.Employee;\n",
    "\n",
    "\"\"\"\n",
    "joinn_df = pd.read_sql(sql=query, con=connection)\n",
    "print (joinn_df.head(20))\n",
    " \n"
   ]
  },
  {
   "cell_type": "code",
   "execution_count": 30,
   "id": "4a35307f",
   "metadata": {},
   "outputs": [
    {
     "name": "stdout",
     "output_type": "stream",
     "text": [
      "   TotalCustomers\n",
      "0           19820\n"
     ]
    }
   ],
   "source": [
    "# Hur många kunder?\n",
    "query =\"\"\"\n",
    "SELECT COUNT(*) AS TotalCustomers\n",
    "FROM Sales.Customer;\n",
    "\n",
    "\"\"\"\n",
    "joinn_df = pd.read_sql(sql=query, con=connection)\n",
    "print (joinn_df.head(20))\n",
    " \n"
   ]
  },
  {
   "cell_type": "code",
   "execution_count": 31,
   "id": "ee6efbd0",
   "metadata": {},
   "outputs": [
    {
     "name": "stdout",
     "output_type": "stream",
     "text": [
      "   TotalProducts\n",
      "0            504\n"
     ]
    }
   ],
   "source": [
    "# Hur många produkter?\n",
    "query =\"\"\"\n",
    "SELECT COUNT(*) AS TotalProducts\n",
    "FROM Production.Product;\n",
    "\n",
    "\"\"\"\n",
    "joinn_df = pd.read_sql(sql=query, con=connection)\n",
    "print (joinn_df.head(20))\n",
    " \n"
   ]
  },
  {
   "cell_type": "code",
   "execution_count": 32,
   "id": "cb1a06aa",
   "metadata": {},
   "outputs": [
    {
     "name": "stdout",
     "output_type": "stream",
     "text": [
      "   TotalDepartments\n",
      "0                16\n"
     ]
    }
   ],
   "source": [
    "# Hur många Avdelning ?\n",
    "query =\"\"\"\n",
    "SELECT COUNT(*) AS TotalDepartments\n",
    "FROM HumanResources.Department;\n",
    "\n",
    "\"\"\"\n",
    "joinn_df = pd.read_sql(sql=query, con=connection)\n",
    "print (joinn_df.head(20))\n",
    " \n"
   ]
  },
  {
   "cell_type": "code",
   "execution_count": 33,
   "id": "03ae2403",
   "metadata": {},
   "outputs": [
    {
     "name": "stdout",
     "output_type": "stream",
     "text": [
      "    DepartmentID             Department_Name  Employee_Count\n",
      "0              1                 Engineering               7\n",
      "1              2                 Tool Design               4\n",
      "2              3                       Sales              18\n",
      "3              4                   Marketing              10\n",
      "4              5                  Purchasing              13\n",
      "5              6    Research and Development               4\n",
      "6              7                  Production             180\n",
      "7              8          Production Control               6\n",
      "8              9             Human Resources               6\n",
      "9             10                     Finance              11\n",
      "10            11        Information Services              10\n",
      "11            12            Document Control               5\n",
      "12            13           Quality Assurance               7\n",
      "13            14  Facilities and Maintenance               7\n",
      "14            15      Shipping and Receiving               6\n",
      "15            16                   Executive               2\n"
     ]
    }
   ],
   "source": [
    "# Hur många Anställda på vaeje avdelning ?\n",
    "query =\"\"\"\n",
    "SELECT \n",
    "    D.DepartmentID\n",
    "    , D.Name AS Department_Name\n",
    "    , COUNT(E.BusinessEntityID) AS Employee_Count\n",
    "FROM HumanResources.EmployeeDepartmentHistory AS E\n",
    "JOIN HumanResources.Department AS D ON D.DepartmentID = E.DepartmentID\n",
    "GROUP BY \n",
    "    D.DepartmentID\n",
    "    , D.Name\n",
    "ORDER BY \n",
    "   D.DepartmentID ;\n",
    "\n",
    "\"\"\"\n",
    "joinn_df = pd.read_sql(sql=query, con=connection)\n",
    "print (joinn_df.head(20))\n",
    " \n"
   ]
  },
  {
   "cell_type": "code",
   "execution_count": 34,
   "id": "1a15f164",
   "metadata": {},
   "outputs": [
    {
     "name": "stdout",
     "output_type": "stream",
     "text": [
      "                 TABLE_NAME\n",
      "0              SalesTaxRate\n",
      "1          PersonCreditCard\n",
      "2               PersonPhone\n",
      "3            SalesTerritory\n",
      "4           PhoneNumberType\n",
      "5                   Product\n",
      "6     SalesTerritoryHistory\n",
      "7               ScrapReason\n",
      "8                     Shift\n",
      "9           ProductCategory\n",
      "10               ShipMethod\n",
      "11       ProductCostHistory\n",
      "12       ProductDescription\n",
      "13         ShoppingCartItem\n",
      "14          ProductDocument\n",
      "15              DatabaseLog\n",
      "16         ProductInventory\n",
      "17             SpecialOffer\n",
      "18                 ErrorLog\n",
      "19  ProductListPriceHistory\n"
     ]
    }
   ],
   "source": [
    "# Hur många tabele ?\n",
    "query =\"\"\"\n",
    "SELECT TABLE_NAME\n",
    "FROM INFORMATION_SCHEMA.TABLES\n",
    "WHERE TABLE_TYPE = 'BASE TABLE';\n",
    "\n",
    "\"\"\"\n",
    "joinn_df = pd.read_sql(sql=query, con=connection)\n",
    "print (joinn_df.head(20))\n",
    " \n"
   ]
  },
  {
   "cell_type": "code",
   "execution_count": 35,
   "id": "890864a1",
   "metadata": {},
   "outputs": [
    {
     "name": "stdout",
     "output_type": "stream",
     "text": [
      "   TotalProducts\n",
      "0            504\n"
     ]
    }
   ],
   "source": [
    "# Hur många Products ?\n",
    "query =\"\"\"\n",
    "SELECT COUNT(*) AS TotalProducts\n",
    "FROM Production.Product;\n",
    "\n",
    "\"\"\"\n",
    "joinn_df = pd.read_sql(sql=query, con=connection)\n",
    "print (joinn_df.head(20))\n",
    " \n"
   ]
  },
  {
   "cell_type": "code",
   "execution_count": 36,
   "id": "3d19376a",
   "metadata": {},
   "outputs": [
    {
     "name": "stdout",
     "output_type": "stream",
     "text": [
      "                DepartmentName  NumberOfEmployees\n",
      "0                   Production                180\n",
      "1                        Sales                 18\n",
      "2                   Purchasing                 13\n",
      "3                      Finance                 11\n",
      "4         Information Services                 10\n",
      "5                    Marketing                 10\n",
      "6                  Engineering                  7\n",
      "7            Quality Assurance                  7\n",
      "8   Facilities and Maintenance                  7\n",
      "9       Shipping and Receiving                  6\n",
      "10          Production Control                  6\n",
      "11             Human Resources                  6\n",
      "12            Document Control                  5\n",
      "13    Research and Development                  4\n",
      "14                 Tool Design                  4\n",
      "15                   Executive                  2\n"
     ]
    }
   ],
   "source": [
    "# Hur många Avdelning med Namn ?\n",
    "query =\"\"\"\n",
    "SELECT d.Name AS DepartmentName, COUNT(e.BusinessEntityID) AS NumberOfEmployees\n",
    "FROM HumanResources.Department d\n",
    "LEFT JOIN HumanResources.EmployeeDepartmentHistory edh ON d.DepartmentID = edh.DepartmentID\n",
    "JOIN HumanResources.Employee e ON edh.BusinessEntityID = e.BusinessEntityID\n",
    "GROUP BY d.Name\n",
    "ORDER BY NumberOfEmployees DESC;\n",
    "\n",
    "\"\"\"\n",
    "joinn_df = pd.read_sql(sql=query, con=connection)\n",
    "print (joinn_df.head(20))\n",
    " \n"
   ]
  },
  {
   "cell_type": "code",
   "execution_count": 37,
   "id": "99769988",
   "metadata": {},
   "outputs": [
    {
     "name": "stdout",
     "output_type": "stream",
     "text": [
      "   NumberOfSellers\n",
      "0              104\n"
     ]
    }
   ],
   "source": [
    "# Hur många säljare ?\n",
    "query =\"\"\"\n",
    "SELECT COUNT(*) AS NumberOfSellers\n",
    "FROM Purchasing.Vendor;\n",
    "\n",
    "\"\"\"\n",
    "joinn_df = pd.read_sql(sql=query, con=connection)\n",
    "print (joinn_df.head(20))\n",
    " \n"
   ]
  }
 ],
 "metadata": {
  "kernelspec": {
   "display_name": "Python 3 (ipykernel)",
   "language": "python",
   "name": "python3"
  },
  "language_info": {
   "codemirror_mode": {
    "name": "ipython",
    "version": 3
   },
   "file_extension": ".py",
   "mimetype": "text/x-python",
   "name": "python",
   "nbconvert_exporter": "python",
   "pygments_lexer": "ipython3",
   "version": "3.11.5"
  }
 },
 "nbformat": 4,
 "nbformat_minor": 5
}
